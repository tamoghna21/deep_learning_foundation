{
 "cells": [
  {
   "cell_type": "markdown",
   "metadata": {},
   "source": [
    "# TV Script Generation\n",
    "In this project, you'll generate your own [Simpsons](https://en.wikipedia.org/wiki/The_Simpsons) TV scripts using RNNs.  You'll be using part of the [Simpsons dataset](https://www.kaggle.com/wcukierski/the-simpsons-by-the-data) of scripts from 27 seasons.  The Neural Network you'll build will generate a new TV script for a scene at [Moe's Tavern](https://simpsonswiki.com/wiki/Moe's_Tavern).\n",
    "## Get the Data\n",
    "The data is already provided for you.  You'll be using a subset of the original dataset.  It consists of only the scenes in Moe's Tavern.  This doesn't include other versions of the tavern, like \"Moe's Cavern\", \"Flaming Moe's\", \"Uncle Moe's Family Feed-Bag\", etc.."
   ]
  },
  {
   "cell_type": "code",
   "execution_count": 15,
   "metadata": {
    "collapsed": true
   },
   "outputs": [],
   "source": [
    "\"\"\"\n",
    "DON'T MODIFY ANYTHING IN THIS CELL\n",
    "\"\"\"\n",
    "import helper\n",
    "\n",
    "data_dir = './data/simpsons/moes_tavern_lines.txt'\n",
    "text = helper.load_data(data_dir)\n",
    "# Ignore notice, since we don't use it for analysing the data\n",
    "text = text[81:]"
   ]
  },
  {
   "cell_type": "markdown",
   "metadata": {},
   "source": [
    "## Explore the Data\n",
    "Play around with `view_sentence_range` to view different parts of the data."
   ]
  },
  {
   "cell_type": "code",
   "execution_count": 2,
   "metadata": {},
   "outputs": [
    {
     "name": "stdout",
     "output_type": "stream",
     "text": [
      "Dataset Stats\n",
      "Roughly the number of unique words: 11492\n",
      "Number of scenes: 262\n",
      "Average number of sentences in each scene: 15.248091603053435\n",
      "Number of lines: 4257\n",
      "Average number of words in each line: 11.50434578341555\n",
      "\n",
      "The sentences 0 to 10:\n",
      "Moe_Szyslak: (INTO PHONE) Moe's Tavern. Where the elite meet to drink.\n",
      "Bart_Simpson: Eh, yeah, hello, is Mike there? Last name, Rotch.\n",
      "Moe_Szyslak: (INTO PHONE) Hold on, I'll check. (TO BARFLIES) Mike Rotch. Mike Rotch. Hey, has anybody seen Mike Rotch, lately?\n",
      "Moe_Szyslak: (INTO PHONE) Listen you little puke. One of these days I'm gonna catch you, and I'm gonna carve my name on your back with an ice pick.\n",
      "Moe_Szyslak: What's the matter Homer? You're not your normal effervescent self.\n",
      "Homer_Simpson: I got my problems, Moe. Give me another one.\n",
      "Moe_Szyslak: Homer, hey, you should not drink to forget your problems.\n",
      "Barney_Gumble: Yeah, you should only drink to enhance your social skills.\n",
      "\n",
      "\n"
     ]
    }
   ],
   "source": [
    "view_sentence_range = (0, 10)\n",
    "\n",
    "\"\"\"\n",
    "DON'T MODIFY ANYTHING IN THIS CELL\n",
    "\"\"\"\n",
    "import numpy as np\n",
    "\n",
    "print('Dataset Stats')\n",
    "print('Roughly the number of unique words: {}'.format(len({word: None for word in text.split()})))\n",
    "scenes = text.split('\\n\\n')\n",
    "print('Number of scenes: {}'.format(len(scenes)))\n",
    "sentence_count_scene = [scene.count('\\n') for scene in scenes]\n",
    "print('Average number of sentences in each scene: {}'.format(np.average(sentence_count_scene)))\n",
    "\n",
    "sentences = [sentence for scene in scenes for sentence in scene.split('\\n')]\n",
    "print('Number of lines: {}'.format(len(sentences)))\n",
    "word_count_sentence = [len(sentence.split()) for sentence in sentences]\n",
    "print('Average number of words in each line: {}'.format(np.average(word_count_sentence)))\n",
    "\n",
    "print()\n",
    "print('The sentences {} to {}:'.format(*view_sentence_range))\n",
    "print('\\n'.join(text.split('\\n')[view_sentence_range[0]:view_sentence_range[1]]))"
   ]
  },
  {
   "cell_type": "markdown",
   "metadata": {},
   "source": [
    "## Implement Preprocessing Functions\n",
    "The first thing to do to any dataset is preprocessing.  Implement the following preprocessing functions below:\n",
    "- Lookup Table\n",
    "- Tokenize Punctuation\n",
    "\n",
    "### Lookup Table\n",
    "To create a word embedding, you first need to transform the words to ids.  In this function, create two dictionaries:\n",
    "- Dictionary to go from the words to an id, we'll call `vocab_to_int`\n",
    "- Dictionary to go from the id to word, we'll call `int_to_vocab`\n",
    "\n",
    "Return these dictionaries in the following tuple `(vocab_to_int, int_to_vocab)`"
   ]
  },
  {
   "cell_type": "code",
   "execution_count": 6,
   "metadata": {},
   "outputs": [
    {
     "name": "stdout",
     "output_type": "stream",
     "text": [
      "Tests Passed\n"
     ]
    }
   ],
   "source": [
    "import numpy as np\n",
    "import problem_unittests as tests\n",
    "\n",
    "def create_lookup_tables(text):\n",
    "    \"\"\"\n",
    "    Create lookup tables for vocabulary\n",
    "    :param text: The text of tv scripts split into words\n",
    "    :return: A tuple of dicts (vocab_to_int, int_to_vocab)\n",
    "    \"\"\"\n",
    "    # TODO: Implement Function\n",
    "    vocab_to_int = {word:ii for ii,word in enumerate(set(text))}\n",
    "    int_to_vocab = {value:word for word,value in vocab_to_int.items()}\n",
    "    return vocab_to_int, int_to_vocab\n",
    "\n",
    "\n",
    "\"\"\"\n",
    "DON'T MODIFY ANYTHING IN THIS CELL THAT IS BELOW THIS LINE\n",
    "\"\"\"\n",
    "tests.test_create_lookup_tables(create_lookup_tables)"
   ]
  },
  {
   "cell_type": "markdown",
   "metadata": {},
   "source": [
    "### Tokenize Punctuation\n",
    "We'll be splitting the script into a word array using spaces as delimiters.  However, punctuations like periods and exclamation marks make it hard for the neural network to distinguish between the word \"bye\" and \"bye!\".\n",
    "\n",
    "Implement the function `token_lookup` to return a dict that will be used to tokenize symbols like \"!\" into \"||Exclamation_Mark||\".  Create a dictionary for the following symbols where the symbol is the key and value is the token:\n",
    "- Period ( . )\n",
    "- Comma ( , )\n",
    "- Quotation Mark ( \" )\n",
    "- Semicolon ( ; )\n",
    "- Exclamation mark ( ! )\n",
    "- Question mark ( ? )\n",
    "- Left Parentheses ( ( )\n",
    "- Right Parentheses ( ) )\n",
    "- Dash ( -- )\n",
    "- Return ( \\n )\n",
    "\n",
    "This dictionary will be used to token the symbols and add the delimiter (space) around it.  This separates the symbols as it's own word, making it easier for the neural network to predict on the next word. Make sure you don't use a token that could be confused as a word. Instead of using the token \"dash\", try using something like \"||dash||\"."
   ]
  },
  {
   "cell_type": "code",
   "execution_count": 8,
   "metadata": {},
   "outputs": [
    {
     "name": "stdout",
     "output_type": "stream",
     "text": [
      "Tests Passed\n"
     ]
    }
   ],
   "source": [
    "def token_lookup():\n",
    "    \"\"\"\n",
    "    Generate a dict to turn punctuation into a token.\n",
    "    :return: Tokenize dictionary where the key is the punctuation and the value is the token\n",
    "    \"\"\"\n",
    "    # TODO: Implement Function\n",
    "    return {'.':'||Period||',',':'||Comma||','\"':\"||Quotation_Mark||\",';':'||Semicolon||','!':'||Exclamation_Mark||','?':'||Question_Mark||','(':'||Left_Parentheses||',')':'||Right_Parentheses||','--':'||Dash||','\\n':'||Return||'}\n",
    "    #return None\n",
    "\n",
    "\"\"\"\n",
    "DON'T MODIFY ANYTHING IN THIS CELL THAT IS BELOW THIS LINE\n",
    "\"\"\"\n",
    "tests.test_tokenize(token_lookup)"
   ]
  },
  {
   "cell_type": "markdown",
   "metadata": {},
   "source": [
    "## Preprocess all the data and save it\n",
    "Running the code cell below will preprocess all the data and save it to file."
   ]
  },
  {
   "cell_type": "code",
   "execution_count": 10,
   "metadata": {
    "collapsed": true
   },
   "outputs": [],
   "source": [
    "\"\"\"\n",
    "DON'T MODIFY ANYTHING IN THIS CELL\n",
    "\"\"\"\n",
    "# Preprocess Training, Validation, and Testing Data\n",
    "helper.preprocess_and_save_data(data_dir, token_lookup, create_lookup_tables)"
   ]
  },
  {
   "cell_type": "markdown",
   "metadata": {},
   "source": [
    "# Check Point\n",
    "This is your first checkpoint. If you ever decide to come back to this notebook or have to restart the notebook, you can start from here. The preprocessed data has been saved to disk."
   ]
  },
  {
   "cell_type": "code",
   "execution_count": 1,
   "metadata": {
    "collapsed": true
   },
   "outputs": [],
   "source": [
    "\"\"\"\n",
    "DON'T MODIFY ANYTHING IN THIS CELL\n",
    "\"\"\"\n",
    "import helper\n",
    "import numpy as np\n",
    "import problem_unittests as tests\n",
    "\n",
    "int_text, vocab_to_int, int_to_vocab, token_dict = helper.load_preprocess()"
   ]
  },
  {
   "cell_type": "code",
   "execution_count": 2,
   "metadata": {},
   "outputs": [
    {
     "ename": "NameError",
     "evalue": "name 'text' is not defined",
     "output_type": "error",
     "traceback": [
      "\u001b[0;31m---------------------------------------------------------------------------\u001b[0m",
      "\u001b[0;31mNameError\u001b[0m                                 Traceback (most recent call last)",
      "\u001b[0;32m<ipython-input-2-33c0e9d8700b>\u001b[0m in \u001b[0;36m<module>\u001b[0;34m()\u001b[0m\n\u001b[0;32m----> 1\u001b[0;31m \u001b[0mprint\u001b[0m\u001b[0;34m(\u001b[0m\u001b[0mtext\u001b[0m\u001b[0;34m[\u001b[0m\u001b[0;34m:\u001b[0m\u001b[0;36m100\u001b[0m\u001b[0;34m]\u001b[0m\u001b[0;34m)\u001b[0m\u001b[0;34m\u001b[0m\u001b[0m\n\u001b[0m",
      "\u001b[0;31mNameError\u001b[0m: name 'text' is not defined"
     ]
    }
   ],
   "source": [
    "print(text[:100])"
   ]
  },
  {
   "cell_type": "code",
   "execution_count": 3,
   "metadata": {},
   "outputs": [
    {
     "name": "stdout",
     "output_type": "stream",
     "text": [
      "[2261, 3263, 2655, 2411, 4516, 3016, 6674, 4858, 6382, 5472, 6300, 1038, 2665, 984, 4858, 6739, 1603, 4306, 3973, 3089, 3973, 180, 3973, 4624, 3722, 1921, 4179, 1557, 211, 3973, 1337, 4858, 6739, 2261, 3263, 2655, 2411, 4516, 5017, 1710, 3973, 4600, 92, 4858, 3263, 2665, 238, 4516, 3722, 1337, 4858, 3722, 1337, 4858, 1477, 3973, 3954, 6027, 1033, 3722, 1337, 3973, 1928, 4179, 6739, 2261, 3263, 2655, 2411, 4516, 605, 3483, 6434, 2254, 4858, 2707, 5999, 3165, 2370, 2088, 1177, 1482, 3483, 3973, 1219, 2088, 1177, 2073, 5107, 211, 1710, 539, 132, 6663, 5596, 2025, 4232, 4858, 6739, 2261]\n"
     ]
    }
   ],
   "source": [
    "print(int_text[:100])"
   ]
  },
  {
   "cell_type": "code",
   "execution_count": 4,
   "metadata": {},
   "outputs": [
    {
     "name": "stdout",
     "output_type": "stream",
     "text": [
      "2655\n"
     ]
    }
   ],
   "source": [
    "print(vocab_to_int['into'])"
   ]
  },
  {
   "cell_type": "code",
   "execution_count": 5,
   "metadata": {},
   "outputs": [
    {
     "name": "stdout",
     "output_type": "stream",
     "text": [
      "into\n"
     ]
    }
   ],
   "source": [
    "print(int_to_vocab[2655])"
   ]
  },
  {
   "cell_type": "code",
   "execution_count": 6,
   "metadata": {},
   "outputs": [
    {
     "name": "stdout",
     "output_type": "stream",
     "text": [
      "69100\n"
     ]
    }
   ],
   "source": [
    "print(len(int_text))"
   ]
  },
  {
   "cell_type": "markdown",
   "metadata": {},
   "source": [
    "## Build the Neural Network\n",
    "You'll build the components necessary to build a RNN by implementing the following functions below:\n",
    "- get_inputs\n",
    "- get_init_cell\n",
    "- get_embed\n",
    "- build_rnn\n",
    "- build_nn\n",
    "- get_batches\n",
    "\n",
    "### Check the Version of TensorFlow and Access to GPU"
   ]
  },
  {
   "cell_type": "code",
   "execution_count": 7,
   "metadata": {},
   "outputs": [
    {
     "name": "stdout",
     "output_type": "stream",
     "text": [
      "TensorFlow Version: 1.1.0\n"
     ]
    },
    {
     "name": "stderr",
     "output_type": "stream",
     "text": [
      "/anaconda/envs/tensorflow/lib/python3.5/site-packages/ipykernel_launcher.py:14: UserWarning: No GPU found. Please use a GPU to train your neural network.\n",
      "  \n"
     ]
    }
   ],
   "source": [
    "\"\"\"\n",
    "DON'T MODIFY ANYTHING IN THIS CELL\n",
    "\"\"\"\n",
    "from distutils.version import LooseVersion\n",
    "import warnings\n",
    "import tensorflow as tf\n",
    "\n",
    "# Check TensorFlow Version\n",
    "assert LooseVersion(tf.__version__) >= LooseVersion('1.0'), 'Please use TensorFlow version 1.0 or newer'\n",
    "print('TensorFlow Version: {}'.format(tf.__version__))\n",
    "\n",
    "# Check for a GPU\n",
    "if not tf.test.gpu_device_name():\n",
    "    warnings.warn('No GPU found. Please use a GPU to train your neural network.')\n",
    "else:\n",
    "    print('Default GPU Device: {}'.format(tf.test.gpu_device_name()))"
   ]
  },
  {
   "cell_type": "markdown",
   "metadata": {},
   "source": [
    "### Input\n",
    "Implement the `get_inputs()` function to create TF Placeholders for the Neural Network.  It should create the following placeholders:\n",
    "- Input text placeholder named \"input\" using the [TF Placeholder](https://www.tensorflow.org/api_docs/python/tf/placeholder) `name` parameter.\n",
    "- Targets placeholder\n",
    "- Learning Rate placeholder\n",
    "\n",
    "Return the placeholders in the following tuple `(Input, Targets, LearningRate)`"
   ]
  },
  {
   "cell_type": "code",
   "execution_count": 8,
   "metadata": {},
   "outputs": [
    {
     "name": "stdout",
     "output_type": "stream",
     "text": [
      "Tests Passed\n"
     ]
    }
   ],
   "source": [
    "def get_inputs():\n",
    "    \"\"\"\n",
    "    Create TF Placeholders for input, targets, and learning rate.\n",
    "    :return: Tuple (input, targets, learning rate)\n",
    "    \"\"\"\n",
    "    # TODO: Implement Function\n",
    "    input = tf.placeholder(tf.int32,[None,None],name = 'input')\n",
    "    targets = tf.placeholder(tf.int32,[None,None],name = 'targets')\n",
    "    learning_rate = tf.placeholder(tf.float32,name='learning_rate')\n",
    "    return input, targets, learning_rate\n",
    "\n",
    "\n",
    "\"\"\"\n",
    "DON'T MODIFY ANYTHING IN THIS CELL THAT IS BELOW THIS LINE\n",
    "\"\"\"\n",
    "tests.test_get_inputs(get_inputs)"
   ]
  },
  {
   "cell_type": "markdown",
   "metadata": {},
   "source": [
    "### Build RNN Cell and Initialize\n",
    "Stack one or more [`BasicLSTMCells`](https://www.tensorflow.org/api_docs/python/tf/contrib/rnn/BasicLSTMCell) in a [`MultiRNNCell`](https://www.tensorflow.org/api_docs/python/tf/contrib/rnn/MultiRNNCell).\n",
    "- The Rnn size should be set using `rnn_size`\n",
    "- Initalize Cell State using the MultiRNNCell's [`zero_state()`](https://www.tensorflow.org/api_docs/python/tf/contrib/rnn/MultiRNNCell#zero_state) function\n",
    "    - Apply the name \"initial_state\" to the initial state using [`tf.identity()`](https://www.tensorflow.org/api_docs/python/tf/identity)\n",
    "\n",
    "Return the cell and initial state in the following tuple `(Cell, InitialState)`"
   ]
  },
  {
   "cell_type": "code",
   "execution_count": 9,
   "metadata": {},
   "outputs": [
    {
     "name": "stdout",
     "output_type": "stream",
     "text": [
      "Tests Passed\n"
     ]
    }
   ],
   "source": [
    "def get_init_cell(batch_size, rnn_size):\n",
    "    \"\"\"\n",
    "    Create an RNN Cell and initialize it.\n",
    "    :param batch_size: Size of batches\n",
    "    :param rnn_size: Size of RNNs\n",
    "    :return: Tuple (cell, initialize state)\n",
    "    \"\"\"\n",
    "    # TODO: Implement Function\n",
    "    num_layers = 2\n",
    "    \n",
    "    def build_cell(lstm_size,keep_prob=1):\n",
    "        lstm = tf.contrib.rnn.BasicLSTMCell(lstm_size)\n",
    "        drop = tf.contrib.rnn.DropoutWrapper(lstm, output_keep_prob=keep_prob)\n",
    "        return drop\n",
    "    #lstm = tf.contrib.rnn.BasicLSTMCell(rnn_size)\n",
    "    #drop = tf.contrib.rnn.DropoutWrapper(lstm, output_keep_prob=1)\n",
    "    cell = tf.contrib.rnn.MultiRNNCell([build_cell(rnn_size) for _ in range(num_layers)])\n",
    "    #cell = tf.contrib.rnn.MultiRNNCell([drop] * num_layers)\n",
    "    initial_state = cell.zero_state(batch_size, tf.float32)\n",
    "    initial_state = tf.identity(initial_state,name='initial_state')\n",
    "    return cell, initial_state\n",
    "\n",
    "\n",
    "\"\"\"\n",
    "DON'T MODIFY ANYTHING IN THIS CELL THAT IS BELOW THIS LINE\n",
    "\"\"\"\n",
    "tests.test_get_init_cell(get_init_cell)"
   ]
  },
  {
   "cell_type": "markdown",
   "metadata": {},
   "source": [
    "### Word Embedding\n",
    "Apply embedding to `input_data` using TensorFlow.  Return the embedded sequence."
   ]
  },
  {
   "cell_type": "code",
   "execution_count": 10,
   "metadata": {},
   "outputs": [
    {
     "name": "stdout",
     "output_type": "stream",
     "text": [
      "Tests Passed\n"
     ]
    }
   ],
   "source": [
    "def get_embed(input_data, vocab_size, embed_dim):\n",
    "    \"\"\"\n",
    "    Create embedding for <input_data>.\n",
    "    :param input_data: TF placeholder for text input.\n",
    "    :param vocab_size: Number of words in vocabulary.\n",
    "    :param embed_dim: Number of embedding dimensions\n",
    "    :return: Embedded input.\n",
    "    \"\"\"\n",
    "    # TODO: Implement Function\n",
    "    embedding = tf.Variable(tf.random_uniform((vocab_size,embed_dim),-1,1))\n",
    "    embed = tf.nn.embedding_lookup(embedding, input_data)\n",
    "    return embed\n",
    "\n",
    "\n",
    "\"\"\"\n",
    "DON'T MODIFY ANYTHING IN THIS CELL THAT IS BELOW THIS LINE\n",
    "\"\"\"\n",
    "tests.test_get_embed(get_embed)"
   ]
  },
  {
   "cell_type": "markdown",
   "metadata": {},
   "source": [
    "### Build RNN\n",
    "You created a RNN Cell in the `get_init_cell()` function.  Time to use the cell to create a RNN.\n",
    "- Build the RNN using the [`tf.nn.dynamic_rnn()`](https://www.tensorflow.org/api_docs/python/tf/nn/dynamic_rnn)\n",
    " - Apply the name \"final_state\" to the final state using [`tf.identity()`](https://www.tensorflow.org/api_docs/python/tf/identity)\n",
    "\n",
    "Return the outputs and final_state state in the following tuple `(Outputs, FinalState)` "
   ]
  },
  {
   "cell_type": "code",
   "execution_count": 11,
   "metadata": {},
   "outputs": [
    {
     "name": "stdout",
     "output_type": "stream",
     "text": [
      "Tests Passed\n"
     ]
    }
   ],
   "source": [
    "def build_rnn(cell, inputs):\n",
    "    \"\"\"\n",
    "    Create a RNN using a RNN Cell\n",
    "    :param cell: RNN Cell\n",
    "    :param inputs: Input text data\n",
    "    :return: Tuple (Outputs, Final State)\n",
    "    \"\"\"\n",
    "    \n",
    "    # TODO: Implement Function\n",
    "    #if there is no initial_state, you must give a dtype\n",
    "    outputs, final_state = tf.nn.dynamic_rnn(cell, inputs, dtype = tf.float32)\n",
    "    final_state = tf.identity(final_state, name = \"final_state\")\n",
    "    return outputs, final_state\n",
    "\n",
    "\n",
    "\"\"\"\n",
    "DON'T MODIFY ANYTHING IN THIS CELL THAT IS BELOW THIS LINE\n",
    "\"\"\"\n",
    "tests.test_build_rnn(build_rnn)"
   ]
  },
  {
   "cell_type": "markdown",
   "metadata": {},
   "source": [
    "### Build the Neural Network\n",
    "Apply the functions you implemented above to:\n",
    "- Apply embedding to `input_data` using your `get_embed(input_data, vocab_size, embed_dim)` function.\n",
    "- Build RNN using `cell` and your `build_rnn(cell, inputs)` function.\n",
    "- Apply a fully connected layer with a linear activation and `vocab_size` as the number of outputs.\n",
    "\n",
    "Return the logits and final state in the following tuple (Logits, FinalState) "
   ]
  },
  {
   "cell_type": "code",
   "execution_count": 12,
   "metadata": {},
   "outputs": [
    {
     "name": "stdout",
     "output_type": "stream",
     "text": [
      "Tests Passed\n"
     ]
    }
   ],
   "source": [
    "def build_nn(cell, rnn_size, input_data, vocab_size, embed_dim):\n",
    "    \"\"\"\n",
    "    Build part of the neural network\n",
    "    :param cell: RNN cell\n",
    "    :param rnn_size: Size of rnns\n",
    "    :param input_data: Input data\n",
    "    :param vocab_size: Vocabulary size\n",
    "    :param embed_dim: Number of embedding dimensions\n",
    "    :return: Tuple (Logits, FinalState)\n",
    "    \"\"\"\n",
    "    # TODO: Implement Function\n",
    "    #embed = get_embed(input_data, vocab_size, embed_dim)\n",
    "    embed = get_embed(input_data, vocab_size, rnn_size)\n",
    "    \n",
    "    outputs, final_state = build_rnn(cell, embed)\n",
    "    #print(outputs.get_shape())\n",
    "    \n",
    "    #seq_output = tf.concat(outputs, axis =1)\n",
    "    #print(seq_output.get_shape())\n",
    "    \n",
    "    #x = tf.reshape(seq_output, [-1, rnn_size])\n",
    "    #print(x.get_shape())\n",
    "    \n",
    "    logits = tf.contrib.layers.fully_connected(outputs, vocab_size, activation_fn = None) # activation_fn=None means linear activation\n",
    "    #logits = tf.contrib.layers.fully_connected(x, vocab_size, activation_fn = None) # activation_fn=None means linear activation\n",
    "    \n",
    "    \n",
    "    return logits, final_state\n",
    "\n",
    "\n",
    "\"\"\"\n",
    "DON'T MODIFY ANYTHING IN THIS CELL THAT IS BELOW THIS LINE\n",
    "\"\"\"\n",
    "tests.test_build_nn(build_nn)"
   ]
  },
  {
   "cell_type": "markdown",
   "metadata": {},
   "source": [
    "### Batches\n",
    "Implement `get_batches` to create batches of input and targets using `int_text`.  The batches should be a Numpy array with the shape `(number of batches, 2, batch size, sequence length)`. Each batch contains two elements:\n",
    "- The first element is a single batch of **input** with the shape `[batch size, sequence length]`\n",
    "- The second element is a single batch of **targets** with the shape `[batch size, sequence length]`\n",
    "\n",
    "If you can't fill the last batch with enough data, drop the last batch.\n",
    "\n",
    "For exmple, `get_batches([1, 2, 3, 4, 5, 6, 7, 8, 9, 10, 11, 12, 13, 14, 15, 16, 17, 18, 19, 20], 3, 2)` would return a Numpy array of the following:\n",
    "```\n",
    "[\n",
    "  # First Batch\n",
    "  [\n",
    "    # Batch of Input\n",
    "    [[ 1  2], [ 7  8], [13 14]]\n",
    "    # Batch of targets\n",
    "    [[ 2  3], [ 8  9], [14 15]]\n",
    "  ]\n",
    "\n",
    "  # Second Batch\n",
    "  [\n",
    "    # Batch of Input\n",
    "    [[ 3  4], [ 9 10], [15 16]]\n",
    "    # Batch of targets\n",
    "    [[ 4  5], [10 11], [16 17]]\n",
    "  ]\n",
    "\n",
    "  # Third Batch\n",
    "  [\n",
    "    # Batch of Input\n",
    "    [[ 5  6], [11 12], [17 18]]\n",
    "    # Batch of targets\n",
    "    [[ 6  7], [12 13], [18  1]]\n",
    "  ]\n",
    "]\n",
    "```\n",
    "\n",
    "Notice that the last target value in the last batch is the first input value of the first batch. In this case, `1`. This is a common technique used when creating sequence batches, although it is rather unintuitive."
   ]
  },
  {
   "cell_type": "code",
   "execution_count": 13,
   "metadata": {},
   "outputs": [
    {
     "name": "stdout",
     "output_type": "stream",
     "text": [
      "Tests Passed\n"
     ]
    }
   ],
   "source": [
    "def get_batches(int_text, batch_size, seq_length):\n",
    "    \"\"\"\n",
    "    Return batches of input and target\n",
    "    :param int_text: Text with the words replaced by their ids\n",
    "    :param batch_size: The size of batch\n",
    "    :param seq_length: The length of sequence\n",
    "    :return: Batches as a Numpy array\n",
    "    \"\"\"\n",
    "    # TODO: Implement Function\n",
    "    words_per_batch = batch_size * seq_length\n",
    "    n_batches = len(int_text)//words_per_batch\n",
    "    \n",
    "    int_text = int_text[:n_batches*words_per_batch]\n",
    "    target_text = int_text[1:]\n",
    "    target_text.append(int_text[0])\n",
    "    \n",
    "    int_text = np.array(int_text)\n",
    "    target_text = np.array(target_text)\n",
    "    \n",
    "    int_text = int_text.reshape((batch_size , -1))\n",
    "    target_text = target_text.reshape((batch_size , -1))\n",
    "    \n",
    "    batches = np.zeros([n_batches, 2, batch_size, seq_length])\n",
    "    batch_counter = 0\n",
    "    for n in range(0, int_text.shape[1], seq_length):\n",
    "        x = int_text[:, n:n+seq_length]\n",
    "        y = target_text[:, n:n+seq_length]\n",
    "        batches[batch_counter][0] = x\n",
    "        batches[batch_counter][1] = y\n",
    "        batch_counter = batch_counter + 1\n",
    "        \n",
    "    return batches\n",
    "\n",
    "\n",
    "\"\"\"\n",
    "DON'T MODIFY ANYTHING IN THIS CELL THAT IS BELOW THIS LINE\n",
    "\"\"\"\n",
    "tests.test_get_batches(get_batches)"
   ]
  },
  {
   "cell_type": "markdown",
   "metadata": {},
   "source": [
    "## Neural Network Training\n",
    "### Hyperparameters\n",
    "Tune the following parameters:\n",
    "\n",
    "- Set `num_epochs` to the number of epochs.\n",
    "- Set `batch_size` to the batch size.\n",
    "- Set `rnn_size` to the size of the RNNs.\n",
    "- Set `embed_dim` to the size of the embedding.\n",
    "- Set `seq_length` to the length of sequence.\n",
    "- Set `learning_rate` to the learning rate.\n",
    "- Set `show_every_n_batches` to the number of batches the neural network should print progress."
   ]
  },
  {
   "cell_type": "code",
   "execution_count": 14,
   "metadata": {
    "collapsed": true
   },
   "outputs": [],
   "source": [
    "# Number of Epochs\n",
    "num_epochs = 50\n",
    "# Batch Size\n",
    "batch_size = 100\n",
    "# RNN Size\n",
    "rnn_size = 512\n",
    "# Embedding Dimension Size\n",
    "embed_dim = 200\n",
    "# Sequence Length\n",
    "seq_length = 10\n",
    "# Learning Rate\n",
    "learning_rate = 0.001\n",
    "# Show stats for every n number of batches\n",
    "show_every_n_batches = 20\n",
    "\n",
    "\"\"\"\n",
    "DON'T MODIFY ANYTHING IN THIS CELL THAT IS BELOW THIS LINE\n",
    "\"\"\"\n",
    "save_dir = './save'"
   ]
  },
  {
   "cell_type": "markdown",
   "metadata": {},
   "source": [
    "### Build the Graph\n",
    "Build the graph using the neural network you implemented."
   ]
  },
  {
   "cell_type": "code",
   "execution_count": 15,
   "metadata": {
    "collapsed": true
   },
   "outputs": [],
   "source": [
    "\"\"\"\n",
    "DON'T MODIFY ANYTHING IN THIS CELL\n",
    "\"\"\"\n",
    "from tensorflow.contrib import seq2seq\n",
    "\n",
    "train_graph = tf.Graph()\n",
    "with train_graph.as_default():\n",
    "    vocab_size = len(int_to_vocab)\n",
    "    input_text, targets, lr = get_inputs()\n",
    "    input_data_shape = tf.shape(input_text)\n",
    "    cell, initial_state = get_init_cell(input_data_shape[0], rnn_size)\n",
    "    logits, final_state = build_nn(cell, rnn_size, input_text, vocab_size, embed_dim)\n",
    "\n",
    "    # Probabilities for generating words\n",
    "    probs = tf.nn.softmax(logits, name='probs')\n",
    "\n",
    "    # Loss function\n",
    "    cost = seq2seq.sequence_loss(\n",
    "        logits,\n",
    "        targets,\n",
    "        tf.ones([input_data_shape[0], input_data_shape[1]]))\n",
    "\n",
    "    # Optimizer\n",
    "    optimizer = tf.train.AdamOptimizer(lr)\n",
    "\n",
    "    # Gradient Clipping\n",
    "    gradients = optimizer.compute_gradients(cost)\n",
    "    capped_gradients = [(tf.clip_by_value(grad, -1., 1.), var) for grad, var in gradients if grad is not None]\n",
    "    train_op = optimizer.apply_gradients(capped_gradients)"
   ]
  },
  {
   "cell_type": "markdown",
   "metadata": {},
   "source": [
    "## Train\n",
    "Train the neural network on the preprocessed data.  If you have a hard time getting a good loss, check the [forums](https://discussions.udacity.com/) to see if anyone is having the same problem."
   ]
  },
  {
   "cell_type": "code",
   "execution_count": 16,
   "metadata": {},
   "outputs": [
    {
     "name": "stdout",
     "output_type": "stream",
     "text": [
      "Epoch   0 Batch    0/69   train_loss = 8.822\n",
      "Epoch   0 Batch   20/69   train_loss = 6.711\n",
      "Epoch   0 Batch   40/69   train_loss = 6.564\n",
      "Epoch   0 Batch   60/69   train_loss = 6.555\n",
      "Epoch   1 Batch   11/69   train_loss = 6.066\n",
      "Epoch   1 Batch   31/69   train_loss = 6.161\n",
      "Epoch   1 Batch   51/69   train_loss = 6.186\n",
      "Epoch   2 Batch    2/69   train_loss = 6.019\n",
      "Epoch   2 Batch   22/69   train_loss = 6.050\n",
      "Epoch   2 Batch   42/69   train_loss = 5.630\n",
      "Epoch   2 Batch   62/69   train_loss = 5.714\n",
      "Epoch   3 Batch   13/69   train_loss = 5.901\n",
      "Epoch   3 Batch   33/69   train_loss = 5.839\n",
      "Epoch   3 Batch   53/69   train_loss = 5.479\n",
      "Epoch   4 Batch    4/69   train_loss = 5.578\n",
      "Epoch   4 Batch   24/69   train_loss = 5.322\n",
      "Epoch   4 Batch   44/69   train_loss = 5.188\n",
      "Epoch   4 Batch   64/69   train_loss = 5.292\n",
      "Epoch   5 Batch   15/69   train_loss = 5.135\n",
      "Epoch   5 Batch   35/69   train_loss = 5.191\n",
      "Epoch   5 Batch   55/69   train_loss = 4.938\n",
      "Epoch   6 Batch    6/69   train_loss = 5.085\n",
      "Epoch   6 Batch   26/69   train_loss = 4.744\n",
      "Epoch   6 Batch   46/69   train_loss = 5.007\n",
      "Epoch   6 Batch   66/69   train_loss = 4.778\n",
      "Epoch   7 Batch   17/69   train_loss = 4.819\n",
      "Epoch   7 Batch   37/69   train_loss = 4.676\n",
      "Epoch   7 Batch   57/69   train_loss = 4.530\n",
      "Epoch   8 Batch    8/69   train_loss = 4.527\n",
      "Epoch   8 Batch   28/69   train_loss = 4.343\n",
      "Epoch   8 Batch   48/69   train_loss = 4.697\n",
      "Epoch   8 Batch   68/69   train_loss = 4.560\n",
      "Epoch   9 Batch   19/69   train_loss = 4.623\n",
      "Epoch   9 Batch   39/69   train_loss = 4.520\n",
      "Epoch   9 Batch   59/69   train_loss = 4.351\n",
      "Epoch  10 Batch   10/69   train_loss = 4.446\n",
      "Epoch  10 Batch   30/69   train_loss = 4.305\n",
      "Epoch  10 Batch   50/69   train_loss = 4.296\n",
      "Epoch  11 Batch    1/69   train_loss = 4.173\n",
      "Epoch  11 Batch   21/69   train_loss = 4.177\n",
      "Epoch  11 Batch   41/69   train_loss = 4.248\n",
      "Epoch  11 Batch   61/69   train_loss = 4.161\n",
      "Epoch  12 Batch   12/69   train_loss = 4.051\n",
      "Epoch  12 Batch   32/69   train_loss = 3.989\n",
      "Epoch  12 Batch   52/69   train_loss = 3.824\n",
      "Epoch  13 Batch    3/69   train_loss = 3.848\n",
      "Epoch  13 Batch   23/69   train_loss = 3.929\n",
      "Epoch  13 Batch   43/69   train_loss = 3.965\n",
      "Epoch  13 Batch   63/69   train_loss = 3.848\n",
      "Epoch  14 Batch   14/69   train_loss = 3.728\n",
      "Epoch  14 Batch   34/69   train_loss = 3.829\n",
      "Epoch  14 Batch   54/69   train_loss = 3.836\n",
      "Epoch  15 Batch    5/69   train_loss = 3.677\n",
      "Epoch  15 Batch   25/69   train_loss = 3.708\n",
      "Epoch  15 Batch   45/69   train_loss = 3.676\n",
      "Epoch  15 Batch   65/69   train_loss = 3.599\n",
      "Epoch  16 Batch   16/69   train_loss = 3.667\n",
      "Epoch  16 Batch   36/69   train_loss = 3.519\n",
      "Epoch  16 Batch   56/69   train_loss = 3.608\n",
      "Epoch  17 Batch    7/69   train_loss = 3.528\n",
      "Epoch  17 Batch   27/69   train_loss = 3.419\n",
      "Epoch  17 Batch   47/69   train_loss = 3.398\n",
      "Epoch  17 Batch   67/69   train_loss = 3.352\n",
      "Epoch  18 Batch   18/69   train_loss = 3.289\n",
      "Epoch  18 Batch   38/69   train_loss = 3.140\n",
      "Epoch  18 Batch   58/69   train_loss = 3.330\n",
      "Epoch  19 Batch    9/69   train_loss = 3.299\n",
      "Epoch  19 Batch   29/69   train_loss = 3.084\n",
      "Epoch  19 Batch   49/69   train_loss = 3.087\n",
      "Epoch  20 Batch    0/69   train_loss = 3.060\n",
      "Epoch  20 Batch   20/69   train_loss = 3.055\n",
      "Epoch  20 Batch   40/69   train_loss = 2.943\n",
      "Epoch  20 Batch   60/69   train_loss = 2.959\n",
      "Epoch  21 Batch   11/69   train_loss = 2.914\n",
      "Epoch  21 Batch   31/69   train_loss = 2.858\n",
      "Epoch  21 Batch   51/69   train_loss = 2.684\n",
      "Epoch  22 Batch    2/69   train_loss = 2.853\n",
      "Epoch  22 Batch   22/69   train_loss = 2.881\n",
      "Epoch  22 Batch   42/69   train_loss = 2.729\n",
      "Epoch  22 Batch   62/69   train_loss = 2.586\n",
      "Epoch  23 Batch   13/69   train_loss = 2.626\n",
      "Epoch  23 Batch   33/69   train_loss = 2.661\n",
      "Epoch  23 Batch   53/69   train_loss = 2.413\n",
      "Epoch  24 Batch    4/69   train_loss = 2.421\n",
      "Epoch  24 Batch   24/69   train_loss = 2.376\n",
      "Epoch  24 Batch   44/69   train_loss = 2.423\n",
      "Epoch  24 Batch   64/69   train_loss = 2.321\n",
      "Epoch  25 Batch   15/69   train_loss = 2.396\n",
      "Epoch  25 Batch   35/69   train_loss = 2.194\n",
      "Epoch  25 Batch   55/69   train_loss = 2.215\n",
      "Epoch  26 Batch    6/69   train_loss = 2.263\n",
      "Epoch  26 Batch   26/69   train_loss = 2.209\n",
      "Epoch  26 Batch   46/69   train_loss = 2.076\n",
      "Epoch  26 Batch   66/69   train_loss = 2.059\n",
      "Epoch  27 Batch   17/69   train_loss = 2.037\n",
      "Epoch  27 Batch   37/69   train_loss = 2.075\n",
      "Epoch  27 Batch   57/69   train_loss = 1.943\n",
      "Epoch  28 Batch    8/69   train_loss = 1.922\n",
      "Epoch  28 Batch   28/69   train_loss = 1.862\n",
      "Epoch  28 Batch   48/69   train_loss = 1.737\n",
      "Epoch  28 Batch   68/69   train_loss = 1.795\n",
      "Epoch  29 Batch   19/69   train_loss = 1.881\n",
      "Epoch  29 Batch   39/69   train_loss = 1.823\n",
      "Epoch  29 Batch   59/69   train_loss = 1.670\n",
      "Epoch  30 Batch   10/69   train_loss = 1.775\n",
      "Epoch  30 Batch   30/69   train_loss = 1.769\n",
      "Epoch  30 Batch   50/69   train_loss = 1.594\n",
      "Epoch  31 Batch    1/69   train_loss = 1.637\n",
      "Epoch  31 Batch   21/69   train_loss = 1.526\n",
      "Epoch  31 Batch   41/69   train_loss = 1.529\n",
      "Epoch  31 Batch   61/69   train_loss = 1.296\n",
      "Epoch  32 Batch   12/69   train_loss = 1.460\n",
      "Epoch  32 Batch   32/69   train_loss = 1.396\n",
      "Epoch  32 Batch   52/69   train_loss = 1.396\n",
      "Epoch  33 Batch    3/69   train_loss = 1.300\n",
      "Epoch  33 Batch   23/69   train_loss = 1.299\n",
      "Epoch  33 Batch   43/69   train_loss = 1.297\n",
      "Epoch  33 Batch   63/69   train_loss = 1.283\n",
      "Epoch  34 Batch   14/69   train_loss = 1.206\n",
      "Epoch  34 Batch   34/69   train_loss = 1.235\n",
      "Epoch  34 Batch   54/69   train_loss = 1.174\n",
      "Epoch  35 Batch    5/69   train_loss = 1.169\n",
      "Epoch  35 Batch   25/69   train_loss = 1.226\n",
      "Epoch  35 Batch   45/69   train_loss = 1.061\n",
      "Epoch  35 Batch   65/69   train_loss = 1.026\n",
      "Epoch  36 Batch   16/69   train_loss = 1.094\n",
      "Epoch  36 Batch   36/69   train_loss = 0.977\n",
      "Epoch  36 Batch   56/69   train_loss = 0.971\n",
      "Epoch  37 Batch    7/69   train_loss = 0.926\n",
      "Epoch  37 Batch   27/69   train_loss = 0.978\n",
      "Epoch  37 Batch   47/69   train_loss = 0.949\n",
      "Epoch  37 Batch   67/69   train_loss = 0.828\n",
      "Epoch  38 Batch   18/69   train_loss = 0.897\n",
      "Epoch  38 Batch   38/69   train_loss = 0.865\n",
      "Epoch  38 Batch   58/69   train_loss = 0.811\n",
      "Epoch  39 Batch    9/69   train_loss = 0.847\n",
      "Epoch  39 Batch   29/69   train_loss = 0.893\n",
      "Epoch  39 Batch   49/69   train_loss = 0.681\n",
      "Epoch  40 Batch    0/69   train_loss = 0.764\n",
      "Epoch  40 Batch   20/69   train_loss = 0.712\n",
      "Epoch  40 Batch   40/69   train_loss = 0.744\n",
      "Epoch  40 Batch   60/69   train_loss = 0.674\n",
      "Epoch  41 Batch   11/69   train_loss = 0.717\n",
      "Epoch  41 Batch   31/69   train_loss = 0.750\n",
      "Epoch  41 Batch   51/69   train_loss = 0.597\n",
      "Epoch  42 Batch    2/69   train_loss = 0.674\n",
      "Epoch  42 Batch   22/69   train_loss = 0.689\n",
      "Epoch  42 Batch   42/69   train_loss = 0.757\n",
      "Epoch  42 Batch   62/69   train_loss = 0.646\n",
      "Epoch  43 Batch   13/69   train_loss = 0.588\n",
      "Epoch  43 Batch   33/69   train_loss = 0.659\n",
      "Epoch  43 Batch   53/69   train_loss = 0.594\n",
      "Epoch  44 Batch    4/69   train_loss = 0.530\n",
      "Epoch  44 Batch   24/69   train_loss = 0.580\n",
      "Epoch  44 Batch   44/69   train_loss = 0.609\n",
      "Epoch  44 Batch   64/69   train_loss = 0.542\n",
      "Epoch  45 Batch   15/69   train_loss = 0.590\n",
      "Epoch  45 Batch   35/69   train_loss = 0.520\n",
      "Epoch  45 Batch   55/69   train_loss = 0.565\n",
      "Epoch  46 Batch    6/69   train_loss = 0.543\n",
      "Epoch  46 Batch   26/69   train_loss = 0.542\n",
      "Epoch  46 Batch   46/69   train_loss = 0.551\n",
      "Epoch  46 Batch   66/69   train_loss = 0.521\n",
      "Epoch  47 Batch   17/69   train_loss = 0.454\n",
      "Epoch  47 Batch   37/69   train_loss = 0.496\n",
      "Epoch  47 Batch   57/69   train_loss = 0.506\n",
      "Epoch  48 Batch    8/69   train_loss = 0.486\n",
      "Epoch  48 Batch   28/69   train_loss = 0.520\n",
      "Epoch  48 Batch   48/69   train_loss = 0.427\n",
      "Epoch  48 Batch   68/69   train_loss = 0.482\n",
      "Epoch  49 Batch   19/69   train_loss = 0.454\n",
      "Epoch  49 Batch   39/69   train_loss = 0.502\n",
      "Epoch  49 Batch   59/69   train_loss = 0.454\n",
      "Model Trained and Saved\n"
     ]
    }
   ],
   "source": [
    "\"\"\"\n",
    "DON'T MODIFY ANYTHING IN THIS CELL\n",
    "\"\"\"\n",
    "batches = get_batches(int_text, batch_size, seq_length)\n",
    "\n",
    "with tf.Session(graph=train_graph) as sess:\n",
    "    sess.run(tf.global_variables_initializer())\n",
    "\n",
    "    for epoch_i in range(num_epochs):\n",
    "        state = sess.run(initial_state, {input_text: batches[0][0]})\n",
    "\n",
    "        for batch_i, (x, y) in enumerate(batches):\n",
    "            feed = {\n",
    "                input_text: x,\n",
    "                targets: y,\n",
    "                initial_state: state,\n",
    "                lr: learning_rate}\n",
    "            train_loss, state, _ = sess.run([cost, final_state, train_op], feed)\n",
    "\n",
    "            # Show every <show_every_n_batches> batches\n",
    "            if (epoch_i * len(batches) + batch_i) % show_every_n_batches == 0:\n",
    "                print('Epoch {:>3} Batch {:>4}/{}   train_loss = {:.3f}'.format(\n",
    "                    epoch_i,\n",
    "                    batch_i,\n",
    "                    len(batches),\n",
    "                    train_loss))\n",
    "\n",
    "    # Save Model\n",
    "    saver = tf.train.Saver()\n",
    "    saver.save(sess, save_dir)\n",
    "    print('Model Trained and Saved')"
   ]
  },
  {
   "cell_type": "markdown",
   "metadata": {},
   "source": [
    "## Save Parameters\n",
    "Save `seq_length` and `save_dir` for generating a new TV script."
   ]
  },
  {
   "cell_type": "code",
   "execution_count": 17,
   "metadata": {
    "collapsed": true
   },
   "outputs": [],
   "source": [
    "\"\"\"\n",
    "DON'T MODIFY ANYTHING IN THIS CELL\n",
    "\"\"\"\n",
    "# Save parameters for checkpoint\n",
    "helper.save_params((seq_length, save_dir))"
   ]
  },
  {
   "cell_type": "markdown",
   "metadata": {},
   "source": [
    "# Checkpoint"
   ]
  },
  {
   "cell_type": "code",
   "execution_count": 18,
   "metadata": {
    "collapsed": true
   },
   "outputs": [],
   "source": [
    "\"\"\"\n",
    "DON'T MODIFY ANYTHING IN THIS CELL\n",
    "\"\"\"\n",
    "import tensorflow as tf\n",
    "import numpy as np\n",
    "import helper\n",
    "import problem_unittests as tests\n",
    "\n",
    "_, vocab_to_int, int_to_vocab, token_dict = helper.load_preprocess()\n",
    "seq_length, load_dir = helper.load_params()"
   ]
  },
  {
   "cell_type": "markdown",
   "metadata": {},
   "source": [
    "## Implement Generate Functions\n",
    "### Get Tensors\n",
    "Get tensors from `loaded_graph` using the function [`get_tensor_by_name()`](https://www.tensorflow.org/api_docs/python/tf/Graph#get_tensor_by_name).  Get the tensors using the following names:\n",
    "- \"input:0\"\n",
    "- \"initial_state:0\"\n",
    "- \"final_state:0\"\n",
    "- \"probs:0\"\n",
    "\n",
    "Return the tensors in the following tuple `(InputTensor, InitialStateTensor, FinalStateTensor, ProbsTensor)` "
   ]
  },
  {
   "cell_type": "code",
   "execution_count": 19,
   "metadata": {},
   "outputs": [
    {
     "name": "stdout",
     "output_type": "stream",
     "text": [
      "Tests Passed\n"
     ]
    }
   ],
   "source": [
    "def get_tensors(loaded_graph):\n",
    "    \"\"\"\n",
    "    Get input, initial state, final state, and probabilities tensor from <loaded_graph>\n",
    "    :param loaded_graph: TensorFlow graph loaded from file\n",
    "    :return: Tuple (InputTensor, InitialStateTensor, FinalStateTensor, ProbsTensor)\n",
    "    \"\"\"\n",
    "    # TODO: Implement Function\n",
    "    #with loaded_graph.as_default():\n",
    "    input = loaded_graph.get_tensor_by_name(name=\"input:0\")\n",
    "    initial_state = loaded_graph.get_tensor_by_name(name=\"initial_state:0\")\n",
    "    final_state = loaded_graph.get_tensor_by_name(name=\"final_state:0\")\n",
    "    probs = loaded_graph.get_tensor_by_name(name=\"probs:0\")\n",
    "    \n",
    "    return input, initial_state, final_state, probs\n",
    "\n",
    "\n",
    "\"\"\"\n",
    "DON'T MODIFY ANYTHING IN THIS CELL THAT IS BELOW THIS LINE\n",
    "\"\"\"\n",
    "tests.test_get_tensors(get_tensors)"
   ]
  },
  {
   "cell_type": "markdown",
   "metadata": {},
   "source": [
    "### Choose Word\n",
    "Implement the `pick_word()` function to select the next word using `probabilities`."
   ]
  },
  {
   "cell_type": "code",
   "execution_count": 20,
   "metadata": {},
   "outputs": [
    {
     "name": "stdout",
     "output_type": "stream",
     "text": [
      "Tests Passed\n"
     ]
    }
   ],
   "source": [
    "def pick_word(probabilities, int_to_vocab):\n",
    "    \"\"\"\n",
    "    Pick the next word in the generated text\n",
    "    :param probabilities: Probabilites of the next word\n",
    "    :param int_to_vocab: Dictionary of word ids as the keys and words as the values\n",
    "    :return: String of the predicted word\n",
    "    \"\"\"\n",
    "    # TODO: Implement Function\n",
    "    \n",
    "    c = int_to_vocab[np.argsort(probabilities)[-1]]\n",
    "    return c\n",
    "\n",
    "\n",
    "\"\"\"\n",
    "DON'T MODIFY ANYTHING IN THIS CELL THAT IS BELOW THIS LINE\n",
    "\"\"\"\n",
    "tests.test_pick_word(pick_word)"
   ]
  },
  {
   "cell_type": "markdown",
   "metadata": {},
   "source": [
    "## Generate TV Script\n",
    "This will generate the TV script for you.  Set `gen_length` to the length of TV script you want to generate."
   ]
  },
  {
   "cell_type": "code",
   "execution_count": 21,
   "metadata": {},
   "outputs": [
    {
     "name": "stdout",
     "output_type": "stream",
     "text": [
      "INFO:tensorflow:Restoring parameters from ./save\n",
      "moe_szyslak:(warily) i dunno if i want you in this bar 'cause you can the little fat.\n",
      "homer_simpson:(sadly) oh, it's this... i'll excuse me.\n",
      "\n",
      "\n",
      "moe_szyslak: hey, you guys mind about-- the following burn me think is!\n",
      "carl_carlson: hey, moe?\n",
      "moe_szyslak: uh, what a real more than you the world of your town.\n",
      "moe_szyslak: i made me as a duff!(to self) so i'm not an song to be away with marge, uh...\n",
      "moe_szyslak: yeah, all right, how am i gonna do?\n",
      "moe_szyslak: oh, i think we're doing in this guy...\n",
      "moe_szyslak: chewin' stuff?\n",
      "homer_simpson:(embarrassed) but there's watching my great guy, moe won't do they give here in the car.\n",
      "moe_szyslak: i know what we can pick? he's one of you could me?\n",
      "carl_carlson:(cool book) so, uh, we had to break a cow.\n",
      "moe_szyslak:(thoughtful) oh, you'd like a\n"
     ]
    }
   ],
   "source": [
    "gen_length = 200\n",
    "# homer_simpson, moe_szyslak, or Barney_Gumble\n",
    "prime_word = 'moe_szyslak'\n",
    "\n",
    "\"\"\"\n",
    "DON'T MODIFY ANYTHING IN THIS CELL THAT IS BELOW THIS LINE\n",
    "\"\"\"\n",
    "loaded_graph = tf.Graph()\n",
    "with tf.Session(graph=loaded_graph) as sess:\n",
    "    # Load saved model\n",
    "    loader = tf.train.import_meta_graph(load_dir + '.meta')\n",
    "    loader.restore(sess, load_dir)\n",
    "\n",
    "    # Get Tensors from loaded model\n",
    "    input_text, initial_state, final_state, probs = get_tensors(loaded_graph)\n",
    "\n",
    "    # Sentences generation setup\n",
    "    gen_sentences = [prime_word + ':']\n",
    "    prev_state = sess.run(initial_state, {input_text: np.array([[1]])})\n",
    "\n",
    "    # Generate sentences\n",
    "    for n in range(gen_length):\n",
    "        # Dynamic Input\n",
    "        dyn_input = [[vocab_to_int[word] for word in gen_sentences[-seq_length:]]]\n",
    "        dyn_seq_length = len(dyn_input[0])\n",
    "\n",
    "        # Get Prediction\n",
    "        probabilities, prev_state = sess.run(\n",
    "            [probs, final_state],\n",
    "            {input_text: dyn_input, initial_state: prev_state})\n",
    "        \n",
    "        pred_word = pick_word(probabilities[dyn_seq_length-1], int_to_vocab)\n",
    "\n",
    "        gen_sentences.append(pred_word)\n",
    "    \n",
    "    # Remove tokens\n",
    "    tv_script = ' '.join(gen_sentences)\n",
    "    for key, token in token_dict.items():\n",
    "        ending = ' ' if key in ['\\n', '(', '\"'] else ''\n",
    "        tv_script = tv_script.replace(' ' + token.lower(), key)\n",
    "    tv_script = tv_script.replace('\\n ', '\\n')\n",
    "    tv_script = tv_script.replace('( ', '(')\n",
    "        \n",
    "    print(tv_script)"
   ]
  },
  {
   "cell_type": "markdown",
   "metadata": {},
   "source": [
    "# The TV Script is Nonsensical\n",
    "It's ok if the TV script doesn't make any sense.  We trained on less than a megabyte of text.  In order to get good results, you'll have to use a smaller vocabulary or get more data.  Luckly there's more data!  As we mentioned in the begging of this project, this is a subset of [another dataset](https://www.kaggle.com/wcukierski/the-simpsons-by-the-data).  We didn't have you train on all the data, because that would take too long.  However, you are free to train your neural network on all the data.  After you complete the project, of course.\n",
    "# Submitting This Project\n",
    "When submitting this project, make sure to run all the cells before saving the notebook. Save the notebook file as \"dlnd_tv_script_generation.ipynb\" and save it as a HTML file under \"File\" -> \"Download as\". Include the \"helper.py\" and \"problem_unittests.py\" files in your submission."
   ]
  }
 ],
 "metadata": {
  "kernelspec": {
   "display_name": "Python 3",
   "language": "python",
   "name": "python3"
  },
  "language_info": {
   "codemirror_mode": {
    "name": "ipython",
    "version": 3
   },
   "file_extension": ".py",
   "mimetype": "text/x-python",
   "name": "python",
   "nbconvert_exporter": "python",
   "pygments_lexer": "ipython3",
   "version": "3.5.4"
  },
  "widgets": {
   "state": {},
   "version": "1.1.2"
  }
 },
 "nbformat": 4,
 "nbformat_minor": 1
}
